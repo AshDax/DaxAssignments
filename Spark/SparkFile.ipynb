{
 "cells": [
  {
   "cell_type": "code",
   "execution_count": 2,
   "metadata": {},
   "outputs": [
    {
     "name": "stdout",
     "output_type": "stream",
     "text": [
      "Requirement already satisfied: pyspark in c:\\users\\asharm\\appdata\\local\\programs\\python\\python39\\lib\\site-packages (3.3.0)\n",
      "Requirement already satisfied: py4j==0.10.9.5 in c:\\users\\asharm\\appdata\\local\\programs\\python\\python39\\lib\\site-packages (from pyspark) (0.10.9.5)\n",
      "\n",
      "[notice] A new release of pip available: 22.1.2 -> 22.2\n",
      "[notice] To update, run: python.exe -m pip install --upgrade pip\n",
      "Note: you may need to restart the kernel to use updated packages.\n"
     ]
    }
   ],
   "source": [
    "pip install pyspark"
   ]
  },
  {
   "cell_type": "code",
   "execution_count": 94,
   "metadata": {},
   "outputs": [],
   "source": [
    "import pyspark\n",
    "from pyspark.sql.functions import hash,lower,col,lit,when,max\n",
    "from pyspark.sql import SparkSession"
   ]
  },
  {
   "cell_type": "code",
   "execution_count": 95,
   "metadata": {},
   "outputs": [],
   "source": [
    "# Creating a spark session\n",
    "spark = SparkSession.builder.getOrCreate()"
   ]
  },
  {
   "cell_type": "code",
   "execution_count": 96,
   "metadata": {},
   "outputs": [
    {
     "name": "stdout",
     "output_type": "stream",
     "text": [
      "root\n",
      " |-- Address: string (nullable = true)\n",
      " |-- Amount: string (nullable = true)\n",
      " |-- Contribution Mode: string (nullable = true)\n",
      " |-- Financial Year: string (nullable = true)\n",
      " |-- Name: string (nullable = true)\n",
      " |-- PAN Given: string (nullable = true)\n",
      " |-- Party: string (nullable = true)\n",
      " |-- Type: string (nullable = true)\n",
      " |-- field10: string (nullable = true)\n",
      " |-- field11: string (nullable = true)\n",
      " |-- field12: string (nullable = true)\n",
      " |-- field13: string (nullable = true)\n",
      " |-- field14: string (nullable = true)\n",
      " |-- field9: string (nullable = true)\n",
      "\n"
     ]
    }
   ],
   "source": [
    "# Reading Json File\n",
    "donation_df = spark.read.option(\"multiline\",\"true\") \\\n",
    "      .json(\"donation_np.json\")\n",
    "      \n",
    "donation_df.printSchema()"
   ]
  },
  {
   "cell_type": "code",
   "execution_count": 97,
   "metadata": {},
   "outputs": [
    {
     "data": {
      "text/html": [
       "<div>\n",
       "<style scoped>\n",
       "    .dataframe tbody tr th:only-of-type {\n",
       "        vertical-align: middle;\n",
       "    }\n",
       "\n",
       "    .dataframe tbody tr th {\n",
       "        vertical-align: top;\n",
       "    }\n",
       "\n",
       "    .dataframe thead th {\n",
       "        text-align: right;\n",
       "    }\n",
       "</style>\n",
       "<table border=\"1\" class=\"dataframe\">\n",
       "  <thead>\n",
       "    <tr style=\"text-align: right;\">\n",
       "      <th></th>\n",
       "      <th>Address</th>\n",
       "      <th>Amount</th>\n",
       "      <th>Contribution Mode</th>\n",
       "      <th>Financial Year</th>\n",
       "      <th>Name</th>\n",
       "      <th>PAN Given</th>\n",
       "      <th>Party</th>\n",
       "      <th>Type</th>\n",
       "      <th>field10</th>\n",
       "      <th>field11</th>\n",
       "      <th>field12</th>\n",
       "      <th>field13</th>\n",
       "      <th>field14</th>\n",
       "      <th>field9</th>\n",
       "    </tr>\n",
       "  </thead>\n",
       "  <tbody>\n",
       "    <tr>\n",
       "      <th>0</th>\n",
       "      <td>16-B, Ferozeshah Road New Delhi-1</td>\n",
       "      <td>3000000</td>\n",
       "      <td>CASH</td>\n",
       "      <td>2010-11</td>\n",
       "      <td>Aziz Pasha</td>\n",
       "      <td>Y</td>\n",
       "      <td>CPI</td>\n",
       "      <td>Others</td>\n",
       "      <td></td>\n",
       "      <td></td>\n",
       "      <td></td>\n",
       "      <td></td>\n",
       "      <td></td>\n",
       "      <td></td>\n",
       "    </tr>\n",
       "    <tr>\n",
       "      <th>1</th>\n",
       "      <td>No.1, First Floor Main Road Domlur Second Stag...</td>\n",
       "      <td>10000000</td>\n",
       "      <td>000037, HDFC Bank Bengaluru, Dt. 16.03.2015, 5...</td>\n",
       "      <td>2014-15</td>\n",
       "      <td>V K Ramachandran</td>\n",
       "      <td>Y</td>\n",
       "      <td>CPI(M)</td>\n",
       "      <td>Others</td>\n",
       "      <td></td>\n",
       "      <td></td>\n",
       "      <td></td>\n",
       "      <td></td>\n",
       "      <td></td>\n",
       "      <td></td>\n",
       "    </tr>\n",
       "    <tr>\n",
       "      <th>2</th>\n",
       "      <td>3, Motilal Nehru Place New Delhi</td>\n",
       "      <td>108000</td>\n",
       "      <td>Cheque, State Bank of India Parliament House N...</td>\n",
       "      <td>2014-15</td>\n",
       "      <td>Dr. Manmohan Singh</td>\n",
       "      <td>N</td>\n",
       "      <td>INC</td>\n",
       "      <td>Others</td>\n",
       "      <td></td>\n",
       "      <td></td>\n",
       "      <td></td>\n",
       "      <td></td>\n",
       "      <td></td>\n",
       "      <td></td>\n",
       "    </tr>\n",
       "    <tr>\n",
       "      <th>3</th>\n",
       "      <td>9,Firozshah Road New Delhi</td>\n",
       "      <td>54000</td>\n",
       "      <td>Through Bank Transfer</td>\n",
       "      <td>2011-12</td>\n",
       "      <td>Dr. Manda Jagnathan</td>\n",
       "      <td>N</td>\n",
       "      <td>INC</td>\n",
       "      <td>Others</td>\n",
       "      <td></td>\n",
       "      <td></td>\n",
       "      <td></td>\n",
       "      <td></td>\n",
       "      <td></td>\n",
       "      <td></td>\n",
       "    </tr>\n",
       "    <tr>\n",
       "      <th>4</th>\n",
       "      <td>17,Dr.B.R.Mehta Lane New Delhi</td>\n",
       "      <td>54000</td>\n",
       "      <td>Through Bank Transfer</td>\n",
       "      <td>2011-12</td>\n",
       "      <td>Prof. K.V.Thomas</td>\n",
       "      <td>N</td>\n",
       "      <td>INC</td>\n",
       "      <td>Others</td>\n",
       "      <td></td>\n",
       "      <td></td>\n",
       "      <td></td>\n",
       "      <td></td>\n",
       "      <td></td>\n",
       "      <td></td>\n",
       "    </tr>\n",
       "    <tr>\n",
       "      <th>...</th>\n",
       "      <td>...</td>\n",
       "      <td>...</td>\n",
       "      <td>...</td>\n",
       "      <td>...</td>\n",
       "      <td>...</td>\n",
       "      <td>...</td>\n",
       "      <td>...</td>\n",
       "      <td>...</td>\n",
       "      <td>...</td>\n",
       "      <td>...</td>\n",
       "      <td>...</td>\n",
       "      <td>...</td>\n",
       "      <td>...</td>\n",
       "      <td>...</td>\n",
       "    </tr>\n",
       "    <tr>\n",
       "      <th>13568</th>\n",
       "      <td>Zydus Tower, Satellite Cross Road, Ahmedabad-3...</td>\n",
       "      <td>1000000</td>\n",
       "      <td>854, HDFC Bank</td>\n",
       "      <td>2014-15</td>\n",
       "      <td>Zydus Healthcare</td>\n",
       "      <td>Y</td>\n",
       "      <td>BJP</td>\n",
       "      <td>Others</td>\n",
       "      <td></td>\n",
       "      <td></td>\n",
       "      <td></td>\n",
       "      <td></td>\n",
       "      <td></td>\n",
       "      <td></td>\n",
       "    </tr>\n",
       "    <tr>\n",
       "      <th>13569</th>\n",
       "      <td>Zydaus Towere, Satellite Cross Roads, Ahmedaba...</td>\n",
       "      <td>5000000</td>\n",
       "      <td>250506BANK OF BARODA</td>\n",
       "      <td>2010-11</td>\n",
       "      <td>Zydus Wellness Limited</td>\n",
       "      <td>Y</td>\n",
       "      <td>BJP</td>\n",
       "      <td>Others</td>\n",
       "      <td></td>\n",
       "      <td></td>\n",
       "      <td></td>\n",
       "      <td></td>\n",
       "      <td></td>\n",
       "      <td></td>\n",
       "    </tr>\n",
       "    <tr>\n",
       "      <th>13570</th>\n",
       "      <td>Zydus Tower, Satellite Cross Roads, Ahmedabad</td>\n",
       "      <td>5000000</td>\n",
       "      <td>250507BANK OF BARODA</td>\n",
       "      <td>2010-11</td>\n",
       "      <td>Zydus Wellness Limited</td>\n",
       "      <td>Y</td>\n",
       "      <td>BJP</td>\n",
       "      <td>Others</td>\n",
       "      <td></td>\n",
       "      <td></td>\n",
       "      <td></td>\n",
       "      <td></td>\n",
       "      <td></td>\n",
       "      <td></td>\n",
       "    </tr>\n",
       "    <tr>\n",
       "      <th>13571</th>\n",
       "      <td>Zydus Wellneww Ltd, Zydus Tower Satellite Cros...</td>\n",
       "      <td>10000000</td>\n",
       "      <td>901983, Bank of Baroda</td>\n",
       "      <td>2012-13</td>\n",
       "      <td>Zydus Wellness Limited</td>\n",
       "      <td>Y</td>\n",
       "      <td>BJP</td>\n",
       "      <td>Others</td>\n",
       "      <td></td>\n",
       "      <td></td>\n",
       "      <td></td>\n",
       "      <td></td>\n",
       "      <td></td>\n",
       "      <td></td>\n",
       "    </tr>\n",
       "    <tr>\n",
       "      <th>13572</th>\n",
       "      <td>Plot No- 26, 27, 28, 30 &amp; 37 Mamring Block, Di...</td>\n",
       "      <td>10000000</td>\n",
       "      <td>Ch No- 170996, Date 31-03-2014, Bank Of Baroda...</td>\n",
       "      <td>2013-14</td>\n",
       "      <td>Zydus Wellness -Sikkim</td>\n",
       "      <td>Y</td>\n",
       "      <td>NCP</td>\n",
       "      <td>Others</td>\n",
       "      <td></td>\n",
       "      <td></td>\n",
       "      <td></td>\n",
       "      <td></td>\n",
       "      <td></td>\n",
       "      <td></td>\n",
       "    </tr>\n",
       "  </tbody>\n",
       "</table>\n",
       "<p>13573 rows × 14 columns</p>\n",
       "</div>"
      ],
      "text/plain": [
       "                                                 Address    Amount  \\\n",
       "0                      16-B, Ferozeshah Road New Delhi-1   3000000   \n",
       "1      No.1, First Floor Main Road Domlur Second Stag...  10000000   \n",
       "2                       3, Motilal Nehru Place New Delhi    108000   \n",
       "3                             9,Firozshah Road New Delhi     54000   \n",
       "4                         17,Dr.B.R.Mehta Lane New Delhi     54000   \n",
       "...                                                  ...       ...   \n",
       "13568  Zydus Tower, Satellite Cross Road, Ahmedabad-3...   1000000   \n",
       "13569  Zydaus Towere, Satellite Cross Roads, Ahmedaba...   5000000   \n",
       "13570      Zydus Tower, Satellite Cross Roads, Ahmedabad   5000000   \n",
       "13571  Zydus Wellneww Ltd, Zydus Tower Satellite Cros...  10000000   \n",
       "13572  Plot No- 26, 27, 28, 30 & 37 Mamring Block, Di...  10000000   \n",
       "\n",
       "                                       Contribution Mode Financial Year  \\\n",
       "0                                                   CASH        2010-11   \n",
       "1      000037, HDFC Bank Bengaluru, Dt. 16.03.2015, 5...        2014-15   \n",
       "2      Cheque, State Bank of India Parliament House N...        2014-15   \n",
       "3                                  Through Bank Transfer        2011-12   \n",
       "4                                  Through Bank Transfer        2011-12   \n",
       "...                                                  ...            ...   \n",
       "13568                                     854, HDFC Bank        2014-15   \n",
       "13569                               250506BANK OF BARODA        2010-11   \n",
       "13570                               250507BANK OF BARODA        2010-11   \n",
       "13571                             901983, Bank of Baroda        2012-13   \n",
       "13572  Ch No- 170996, Date 31-03-2014, Bank Of Baroda...        2013-14   \n",
       "\n",
       "                         Name PAN Given   Party    Type field10 field11  \\\n",
       "0                  Aziz Pasha         Y     CPI  Others                   \n",
       "1            V K Ramachandran         Y  CPI(M)  Others                   \n",
       "2          Dr. Manmohan Singh         N     INC  Others                   \n",
       "3         Dr. Manda Jagnathan         N     INC  Others                   \n",
       "4            Prof. K.V.Thomas         N     INC  Others                   \n",
       "...                       ...       ...     ...     ...     ...     ...   \n",
       "13568        Zydus Healthcare         Y     BJP  Others                   \n",
       "13569  Zydus Wellness Limited         Y     BJP  Others                   \n",
       "13570  Zydus Wellness Limited         Y     BJP  Others                   \n",
       "13571  Zydus Wellness Limited         Y     BJP  Others                   \n",
       "13572  Zydus Wellness -Sikkim         Y     NCP  Others                   \n",
       "\n",
       "      field12 field13 field14 field9  \n",
       "0                                     \n",
       "1                                     \n",
       "2                                     \n",
       "3                                     \n",
       "4                                     \n",
       "...       ...     ...     ...    ...  \n",
       "13568                                 \n",
       "13569                                 \n",
       "13570                                 \n",
       "13571                                 \n",
       "13572                                 \n",
       "\n",
       "[13573 rows x 14 columns]"
      ]
     },
     "execution_count": 97,
     "metadata": {},
     "output_type": "execute_result"
    }
   ],
   "source": [
    "# Converting the JSON File to Pandas DataFrame\n",
    "donation_df.toPandas()"
   ]
  },
  {
   "cell_type": "code",
   "execution_count": 98,
   "metadata": {},
   "outputs": [],
   "source": [
    "# Renaming Columns\n",
    "donation_df = donation_df.withColumnRenamed(\"Contribution Mode\",\"mode_of_payment\").withColumnRenamed(\"Financial Year\",\"fin_year\").withColumnRenamed(\"PAN Given\", \"pan_given\")"
   ]
  },
  {
   "cell_type": "code",
   "execution_count": 99,
   "metadata": {},
   "outputs": [
    {
     "data": {
      "text/plain": [
       "['Address',\n",
       " 'Amount',\n",
       " 'mode_of_payment',\n",
       " 'fin_year',\n",
       " 'Name',\n",
       " 'pan_given',\n",
       " 'Party',\n",
       " 'Type',\n",
       " 'field10',\n",
       " 'field11',\n",
       " 'field12',\n",
       " 'field13',\n",
       " 'field14',\n",
       " 'field9']"
      ]
     },
     "execution_count": 99,
     "metadata": {},
     "output_type": "execute_result"
    }
   ],
   "source": [
    "donation_df.columns"
   ]
  },
  {
   "cell_type": "code",
   "execution_count": 100,
   "metadata": {},
   "outputs": [],
   "source": [
    "# Encryting the Address Field\n",
    "donation_df = donation_df.withColumn('Address', hash('Address'))"
   ]
  },
  {
   "cell_type": "code",
   "execution_count": 101,
   "metadata": {},
   "outputs": [],
   "source": [
    "# Transforming the mode_of_payment to lower case \n",
    "donation_df = donation_df.withColumn('mode_of_payment', lower(col('mode_of_payment')))"
   ]
  },
  {
   "cell_type": "code",
   "execution_count": 102,
   "metadata": {},
   "outputs": [],
   "source": [
    "# Transforming into Categorical Data\n",
    "donation_df = donation_df.withColumn( \"mode_of_payment\", when(col(\"mode_of_payment\").contains(\"cash\"),\"Cash\").when(col(\"mode_of_payment\").contains(\"cheque\"),\"Cheque\").when(col(\"mode_of_payment\").contains(\"bank\"),\"Bank\").otherwise(\"Others\"))"
   ]
  },
  {
   "cell_type": "code",
   "execution_count": 103,
   "metadata": {},
   "outputs": [
    {
     "name": "stdout",
     "output_type": "stream",
     "text": [
      "+-----------+--------+---------------+--------+--------------------+---------+------+------+-------+-------+-------+-------+-------+------+\n",
      "|    Address|  Amount|mode_of_payment|fin_year|                Name|pan_given| Party|  Type|field10|field11|field12|field13|field14|field9|\n",
      "+-----------+--------+---------------+--------+--------------------+---------+------+------+-------+-------+-------+-------+-------+------+\n",
      "| 1308690849| 3000000|           Cash| 2010-11|          Aziz Pasha|        Y|   CPI|Others|       |       |       |       |       |      |\n",
      "|  244956150|10000000|           Bank| 2014-15|    V K Ramachandran|        Y|CPI(M)|Others|       |       |       |       |       |      |\n",
      "|  -18372129|  108000|         Cheque| 2014-15|  Dr. Manmohan Singh|        N|   INC|Others|       |       |       |       |       |      |\n",
      "| 2092735068|   54000|           Bank| 2011-12| Dr. Manda Jagnathan|        N|   INC|Others|       |       |       |       |       |      |\n",
      "|-1762953337|   54000|           Bank| 2011-12|    Prof. K.V.Thomas|        N|   INC|Others|       |       |       |       |       |      |\n",
      "| -128635870|  100000|         Others| 2011-12|     Sweta Chyouksey|        Y|   BJP|Others|       |       |       |       |       |      |\n",
      "|-2015053831|  100000|         Others| 2011-12|   Uma Shankar Gupta|        N|   BJP|Others|       |       |       |       |       |      |\n",
      "| 1813940173|   25000|           Bank| 2013-14|Parshwanath Bhakt...|        N|   BJP|Others|       |       |       |       |       |      |\n",
      "| -811390210|  100000|         Others| 2011-12|Anand Constructio...|        Y|   BJP|Others|       |       |       |       |       |      |\n",
      "|  756402741|   54000|           Bank| 2013-14|       Kamal Kashore|        N|   INC|Others|       |       |       |       |       |      |\n",
      "+-----------+--------+---------------+--------+--------------------+---------+------+------+-------+-------+-------+-------+-------+------+\n",
      "only showing top 10 rows\n",
      "\n"
     ]
    }
   ],
   "source": [
    "donation_df.show(10)"
   ]
  },
  {
   "cell_type": "code",
   "execution_count": 104,
   "metadata": {},
   "outputs": [],
   "source": [
    "donation_df = donation_df.drop('_corrupt_record', 'field9', 'field10', 'field11', 'field12', 'field13', 'field14')"
   ]
  },
  {
   "cell_type": "markdown",
   "metadata": {},
   "source": [
    "Aggregates per party "
   ]
  },
  {
   "cell_type": "code",
   "execution_count": 105,
   "metadata": {},
   "outputs": [],
   "source": [
    "from pyspark.sql.types import IntegerType\n",
    "\n",
    "# Typecasting Amount field\n",
    "donation_df = donation_df.withColumn(\"Amount\",donation_df.Amount.cast(IntegerType()))"
   ]
  },
  {
   "cell_type": "code",
   "execution_count": 106,
   "metadata": {},
   "outputs": [],
   "source": [
    "# Calculating Sum Amount for each party\n",
    "donation_df_sum = donation_df.groupBy('Party').sum('Amount')"
   ]
  },
  {
   "cell_type": "code",
   "execution_count": 107,
   "metadata": {},
   "outputs": [],
   "source": [
    "# Creating Sum column for each party\n",
    "for sum in donation_df_sum.collect():\n",
    "    Party, Amount = sum[\"Party\"], sum[\"sum(Amount)\"]\n",
    "    donation_df = donation_df.withColumn(Party+\"_SUM_LTD\", when(donation_df.Party.contains(Party), Amount).otherwise(0))"
   ]
  },
  {
   "cell_type": "code",
   "execution_count": 108,
   "metadata": {},
   "outputs": [],
   "source": [
    "# Calculating Count of Each party\n",
    "donation_df_count = donation_df.groupBy('Party').count()"
   ]
  },
  {
   "cell_type": "code",
   "execution_count": 109,
   "metadata": {},
   "outputs": [],
   "source": [
    "for count in donation_df_count.collect():\n",
    "    Party, Amount = count[\"Party\"], count[\"count\"]\n",
    "    donation_df = donation_df.withColumn(Party+\"_COUNT_LTD\", when(donation_df.Party.contains(Party), Amount).otherwise(0))"
   ]
  },
  {
   "cell_type": "code",
   "execution_count": 110,
   "metadata": {},
   "outputs": [],
   "source": [
    "donation_df_Avg = donation_df.groupBy('Party').avg('Amount')"
   ]
  },
  {
   "cell_type": "code",
   "execution_count": 111,
   "metadata": {},
   "outputs": [],
   "source": [
    "for avg in donation_df_Avg.collect():\n",
    "    Party, Amount = avg[\"Party\"], avg[\"avg(Amount)\"]\n",
    "    donation_df = donation_df.withColumn(Party+\"_AVG_LTD\", when(donation_df.Party.contains(Party), Amount).otherwise(0))"
   ]
  },
  {
   "cell_type": "code",
   "execution_count": 112,
   "metadata": {},
   "outputs": [],
   "source": [
    "donation_df_Max = donation_df.groupBy('Party').max('Amount')"
   ]
  },
  {
   "cell_type": "code",
   "execution_count": 113,
   "metadata": {},
   "outputs": [],
   "source": [
    "for Max in donation_df_Max.collect():\n",
    "    Party, Amount = Max[\"Party\"], Max[\"max(Amount)\"]\n",
    "    donation_df = donation_df.withColumn(Party+\"_MAX_LTD\", when(donation_df.Party.contains(Party), Amount).otherwise(0))"
   ]
  },
  {
   "cell_type": "markdown",
   "metadata": {},
   "source": [
    "Top donor per party "
   ]
  },
  {
   "cell_type": "code",
   "execution_count": 114,
   "metadata": {},
   "outputs": [],
   "source": [
    "donation_df_MaxDonors = donation_df[donation_df.Amount.isin([donor[0] for donor in donation_df.groupBy(\"Party\").agg(max(\"Amount\")).select(\"max(Amount)\").collect()])].select(\"Name\", \"Party\")"
   ]
  },
  {
   "cell_type": "code",
   "execution_count": 115,
   "metadata": {},
   "outputs": [
    {
     "data": {
      "text/plain": [
       "'Aziz Pasha'"
      ]
     },
     "execution_count": 115,
     "metadata": {},
     "output_type": "execute_result"
    }
   ],
   "source": [
    "donation_df_MaxDonors.collect()[0][\"Name\"]"
   ]
  },
  {
   "cell_type": "code",
   "execution_count": 116,
   "metadata": {},
   "outputs": [],
   "source": [
    "for donor in donation_df_MaxDonors.collect():\n",
    "    donation_df = donation_df.withColumn(donor[\"Party\"]+\"_TOP_DONOR\", when(col(\"Party\").contains(donor[\"Party\"]), donor[\"Name\"]).otherwise(\"---\"))"
   ]
  },
  {
   "cell_type": "markdown",
   "metadata": {},
   "source": [
    "Donations in a financial year for each party"
   ]
  },
  {
   "cell_type": "code",
   "execution_count": 77,
   "metadata": {},
   "outputs": [],
   "source": [
    "grouped_multiple = donation_df.groupby(['Party', 'fin_year']).sum('Amount').collect()"
   ]
  },
  {
   "cell_type": "code",
   "execution_count": 117,
   "metadata": {},
   "outputs": [],
   "source": [
    "for year in grouped_multiple:\n",
    "    donation_df = donation_df.withColumn(year[\"fin_year\"] + \"_\"+year[\"Party\"]+\"_SUM\",when(col(\"fin_year\").contains(year[\"fin_year\"]) & col(\"Party\").contains(year[\"Party\"]),lit(year[\"sum(Amount)\"])).otherwise(\"---\"))"
   ]
  },
  {
   "cell_type": "markdown",
   "metadata": {},
   "source": [
    "Number of donation till date per mode_of_payment "
   ]
  },
  {
   "cell_type": "code",
   "execution_count": 118,
   "metadata": {},
   "outputs": [
    {
     "name": "stdout",
     "output_type": "stream",
     "text": [
      "+---------------+-----+\n",
      "|mode_of_payment|count|\n",
      "+---------------+-----+\n",
      "|           Bank| 7788|\n",
      "|         Cheque| 2080|\n",
      "|           Cash|  918|\n",
      "|         Others| 2787|\n",
      "+---------------+-----+\n",
      "\n"
     ]
    }
   ],
   "source": [
    "donation_df_mode = donation_df.groupBy('mode_of_payment').count().show()"
   ]
  },
  {
   "cell_type": "code",
   "execution_count": 119,
   "metadata": {},
   "outputs": [],
   "source": [
    "for d in donation_df.groupBy(\"Party\").count().collect():\n",
    "    donation_df = donation_df.withColumn(d[\"Party\"] + \"_COUNT_LTD\", when(col(\"Party\").contains(d[\"Party\"]), d[\"count\"]).otherwise(0))"
   ]
  },
  {
   "cell_type": "code",
   "execution_count": 127,
   "metadata": {},
   "outputs": [],
   "source": [
    "donation_df.toPandas().to_csv('mycsv.csv')"
   ]
  },
  {
   "cell_type": "markdown",
   "metadata": {},
   "source": [
    "Writing Using a parquet File"
   ]
  },
  {
   "cell_type": "code",
   "execution_count": 125,
   "metadata": {},
   "outputs": [
    {
     "name": "stdout",
     "output_type": "stream",
     "text": [
      "Collecting pyarrow\n",
      "  Downloading pyarrow-8.0.0-cp39-cp39-win_amd64.whl (17.9 MB)\n",
      "     ---------------------------------------- 17.9/17.9 MB 1.2 MB/s eta 0:00:00\n",
      "Requirement already satisfied: numpy>=1.16.6 in c:\\users\\asharm\\appdata\\local\\programs\\python\\python39\\lib\\site-packages (from pyarrow) (1.23.1)\n",
      "Installing collected packages: pyarrow\n",
      "Successfully installed pyarrow-8.0.0\n",
      "\n",
      "[notice] A new release of pip available: 22.1.2 -> 22.2\n",
      "[notice] To update, run: python.exe -m pip install --upgrade pip\n",
      "Note: you may need to restart the kernel to use updated packages.\n"
     ]
    }
   ],
   "source": [
    "pip install pyarrow"
   ]
  },
  {
   "cell_type": "code",
   "execution_count": 128,
   "metadata": {},
   "outputs": [],
   "source": [
    "import pyarrow.csv as pv\n",
    "import pyarrow.parquet as pq"
   ]
  },
  {
   "cell_type": "code",
   "execution_count": 130,
   "metadata": {},
   "outputs": [],
   "source": [
    "table = pv.read_csv('mycsv.csv')\n",
    "pq.write_table(table, 'donation.parquet')"
   ]
  }
 ],
 "metadata": {
  "kernelspec": {
   "display_name": "Python 3.9.13 64-bit",
   "language": "python",
   "name": "python3"
  },
  "language_info": {
   "codemirror_mode": {
    "name": "ipython",
    "version": 3
   },
   "file_extension": ".py",
   "mimetype": "text/x-python",
   "name": "python",
   "nbconvert_exporter": "python",
   "pygments_lexer": "ipython3",
   "version": "3.9.13"
  },
  "orig_nbformat": 4,
  "vscode": {
   "interpreter": {
    "hash": "21e6638416f8ba8c6b932cd0ed9119c3bb5ed2cbda31544e036b1b3f6b04bce4"
   }
  }
 },
 "nbformat": 4,
 "nbformat_minor": 2
}
